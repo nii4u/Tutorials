{
 "cells": [
  {
   "cell_type": "markdown",
   "metadata": {
    "colab_type": "text",
    "id": "IxZ97MQPbj90"
   },
   "source": [
    "# Feed-forward and Recurrent Language Models"
   ]
  },
  {
   "cell_type": "markdown",
   "metadata": {},
   "source": [
    "### Preliminaries"
   ]
  },
  {
   "cell_type": "code",
   "execution_count": 1,
   "metadata": {},
   "outputs": [
    {
     "name": "stdout",
     "output_type": "stream",
     "text": [
      "Populating the interactive namespace from numpy and matplotlib\n"
     ]
    }
   ],
   "source": [
    "%pylab inline\n",
    "%load_ext autoreload\n",
    "%autoreload 2"
   ]
  },
  {
   "cell_type": "code",
   "execution_count": 2,
   "metadata": {},
   "outputs": [],
   "source": [
    "# !pip install jsonlines tqdm"
   ]
  },
  {
   "cell_type": "code",
   "execution_count": 3,
   "metadata": {
    "colab": {
     "base_uri": "https://localhost:8080/",
     "height": 1000
    },
    "colab_type": "code",
    "id": "RSqJllXkKGZR",
    "outputId": "e3ec5aa0-bbf9-4851-aad1-6c1ab1fdf4f1"
   },
   "outputs": [],
   "source": [
    "# download pretrained models and data\n",
    "### DOWNLOADING THE FILES\n",
    "import os\n",
    "\n",
    "### persona chat dataset\n",
    "if not os.path.exists('personachat_all_sentences_train.jsonl'):\n",
    "    !wget \"https://nyu.box.com/shared/static/q4nvswb0szelivhgyx87vd1056ttqfyi.jsonl\" -O 'personachat_all_sentences_train.jsonl'\n",
    "if not os.path.exists('personachat_all_sentences_valid.jsonl'):\n",
    "    !wget \"https://nyu.box.com/shared/static/8krcizo8sms1m0ppy7uiwfcx4a3l5nsq.jsonl\" -O 'personachat_all_sentences_valid.jsonl'\n",
    "if not os.path.exists('personachat_all_sentences_test.jsonl'):\n",
    "    !wget \"https://nyu.box.com/shared/static/im7we9k2gcf8kslqnfamsimicgosuw9y.jsonl\" -O 'personachat_all_sentences_test.jsonl'\n",
    "\n",
    "## wikitext-2 dataset\n",
    "if not os.path.exists('wikitext2-sentencized.json'):\n",
    "    !wget \"https://nyu.box.com/shared/static/9kb7l7ci30hb6uahhbssjlq0kctr5ii4.json\" -O 'wikitext2-sentencized.json'\n",
    "\n",
    "### pretrained ffnn model\n",
    "if not os.path.exists('personachat_ffnn_lm.pt'):\n",
    "    !wget \"https://nyu.box.com/shared/static/looczvct7ssh30x0gwqmvencple8xok9.pt\" -O 'personachat_ffnn_lm.pt'\n",
    "\n",
    "### pretrained rnn model\n",
    "if not os.path.exists('personachat_rnn_lm.pt'):\n",
    "    !wget \"https://nyu.box.com/shared/static/3jl9erctnvbefnczgmetkdil0xwpcxzb.pt\" -O 'personachat_rnn_lm.pt'"
   ]
  },
  {
   "cell_type": "markdown",
   "metadata": {
    "colab_type": "text",
    "id": "G0PkAzAkKHZw"
   },
   "source": [
    "## N-gram modeling as classification\n",
    "\n",
    "In the previous n-gram language models lab, the probability of a word given a history ('prefix') was computed using n-gram **counts**.\n",
    "\n",
    "In this lab, our goal will be the same: modeling the probability of variable length sequences, $$p(x_1,\\ldots,x_T)=\\prod_{t=1}^T p(x_t|x_{<t}),$$\n",
    "\n",
    "by assuming that each word $x_t$ only depends on the preceding $n-1$ words, $$p(x_1,\\ldots,x_T)=\\prod_{t=1}^T p(x_t|x_{t-n+1},\\ldots,x_{t-1}).$$\n",
    "\n",
    "\n",
    "However, _instead of counts_, we will now use a **neural network** to **classify** each history, where each class is the next word.\n",
    "\n",
    "<img src=\"img/fflm.png\" alt=\"Drawing\" style=\"width: 35%;\"/>\n",
    "\n",
    "[Diagram: modified from the [NLP Lecture Note](https://github.com/nyu-dl/NLP_DL_Lecture_Note/blob/master/lecture_note.pdf) by Kyunghyun Cho]"
   ]
  },
  {
   "cell_type": "markdown",
   "metadata": {
    "colab_type": "text",
    "id": "_rHGuy-zbj-R"
   },
   "source": [
    "## Modeling chat utterances\n",
    "\n",
    "We will build a **feed-forward neural n-gram model** to model chat utterances.\n",
    "\n",
    "### 1. Prepare the data\n",
    "\n",
    "To load and preprocess the data, we'll use utility functions from `data.py`."
   ]
  },
  {
   "cell_type": "code",
   "execution_count": 4,
   "metadata": {
    "colab": {},
    "colab_type": "code",
    "id": "TsLd-pAlbj-Y"
   },
   "outputs": [],
   "source": [
    "import data as data_utils"
   ]
  },
  {
   "cell_type": "code",
   "execution_count": 5,
   "metadata": {
    "colab": {},
    "colab_type": "code",
    "id": "UYIBNnOwO9wa"
   },
   "outputs": [
    {
     "name": "stderr",
     "output_type": "stream",
     "text": [
      "100%|██████████| 133176/133176 [00:24<00:00, 5425.64it/s]\n",
      "100%|██████████| 16181/16181 [00:03<00:00, 4241.08it/s]\n"
     ]
    }
   ],
   "source": [
    "datasets = data_utils.load_personachat('./')\n",
    "dictionary = data_utils.Dictionary(datasets, include_valid=True)"
   ]
  },
  {
   "cell_type": "markdown",
   "metadata": {},
   "source": [
    "Let's look at an example from the dataset (note that in addition to `train` we also have `valid`, `test` splits):"
   ]
  },
  {
   "cell_type": "code",
   "execution_count": 6,
   "metadata": {},
   "outputs": [
    {
     "name": "stdout",
     "output_type": "stream",
     "text": [
      "Dataset size 133176 (train), 16181 (valid), 15608 (test).\n",
      "\n",
      "i am doing great except for the allergies .\n",
      "\n",
      " word indices - [4, 5, 6, 7, 8, 9, 10, 11, 12]\n",
      "\n",
      " words - ['i', 'am', 'doing', 'great', 'except', 'for', 'the', 'allergies', '.']\n"
     ]
    }
   ],
   "source": [
    "index = 0\n",
    "split = 'train'\n",
    "encoded = dictionary.encode_token_seq(datasets[split][index])\n",
    "decoded = dictionary.decode_idx_seq(encoded)\n",
    "\n",
    "print(\"Dataset size %d (train), %d (valid), %d (test).\\n\" %\n",
    "     (len(datasets['train']), \n",
    "      len(datasets['valid']), \n",
    "      len(datasets['test'])))\n",
    "print(' '.join(datasets[split][index]))\n",
    "print(f'\\n word indices - {encoded}')\n",
    "print(f'\\n words - {decoded}')"
   ]
  },
  {
   "cell_type": "markdown",
   "metadata": {},
   "source": [
    "Now we add `<bos>`, `<eos>`, and turn each **sequence** into **n-grams**:"
   ]
  },
  {
   "cell_type": "code",
   "execution_count": 7,
   "metadata": {},
   "outputs": [
    {
     "name": "stdout",
     "output_type": "stream",
     "text": [
      "\n",
      " 0 - ['<bos>', '<bos>', '<bos>', '<bos>', 'i']\n",
      "\n",
      " 1 - ['<bos>', '<bos>', '<bos>', 'i', 'am']\n",
      "\n",
      " 2 - ['<bos>', '<bos>', 'i', 'am', 'doing']\n",
      "\n",
      " 3 - ['<bos>', 'i', 'am', 'doing', 'great']\n",
      "\n",
      " 4 - ['i', 'am', 'doing', 'great', 'except']\n",
      "\n",
      " 5 - ['am', 'doing', 'great', 'except', 'for']\n",
      "\n",
      " 6 - ['doing', 'great', 'except', 'for', 'the']\n",
      "\n",
      " 7 - ['great', 'except', 'for', 'the', 'allergies']\n",
      "\n",
      " 8 - ['except', 'for', 'the', 'allergies', '.']\n",
      "\n",
      " 9 - ['for', 'the', 'allergies', '.', '<eos>']\n"
     ]
    }
   ],
   "source": [
    "ngram_order = 5\n",
    "tokenized_datasets = data_utils.tokenize_dataset(\n",
    "    datasets, dictionary, ngram_order\n",
    ")\n",
    "ngram_datasets = data_utils.slice_into_ngrams(\n",
    "    tokenized_datasets, ngram_order\n",
    ")\n",
    "\n",
    "for i in range(10):\n",
    "    decoded = dictionary.decode_idx_seq(ngram_datasets[split][index+i])\n",
    "    print(f'\\n {i} - {decoded}')"
   ]
  },
  {
   "cell_type": "markdown",
   "metadata": {},
   "source": [
    "Finally, we create a **Pytorch** `Dataset` and `DataLoader` that can be used for training a neural network."
   ]
  },
  {
   "cell_type": "code",
   "execution_count": 8,
   "metadata": {
    "colab": {
     "base_uri": "https://localhost:8080/",
     "height": 299
    },
    "colab_type": "code",
    "id": "401zpVGvNcmR",
    "outputId": "eec5cc33-1daa-45d4-e457-f13f73e74a05"
   },
   "outputs": [],
   "source": [
    "from torch.utils.data import DataLoader\n",
    "\n",
    "datasets = {}\n",
    "dataloaders = {}\n",
    "for split, dataset in ngram_datasets.items():\n",
    "    dataset_ = data_utils.NgramDataset(dataset)\n",
    "    datasets[split] = dataset_\n",
    "    dataloaders[split] = DataLoader(\n",
    "        dataset_, \n",
    "        batch_size=2048, \n",
    "        shuffle=(split == 'train'), \n",
    "        collate_fn=data_utils.batchify\n",
    "    )"
   ]
  },
  {
   "cell_type": "markdown",
   "metadata": {},
   "source": [
    "### 2. Defining the model\n",
    "\n",
    "\n",
    "#### How do we represent the input $x_t$? \n",
    "\n",
    "Each $x_t$ is an **integer** (token id), and we transform it into a **vector** $f_{\\text{embed}}(x_t)\\in\\mathbb{R}^d$ using an `Embedding` layer."
   ]
  },
  {
   "cell_type": "markdown",
   "metadata": {
    "colab_type": "text",
    "id": "jlUBUtnhbj-f"
   },
   "source": [
    "An embedding layer serves as a differentiable look-up table. Given an integer token id, it returns a vector representation which we call an **embedding**."
   ]
  },
  {
   "cell_type": "code",
   "execution_count": 9,
   "metadata": {
    "colab": {},
    "colab_type": "code",
    "id": "F7wBvXaYbj-g"
   },
   "outputs": [],
   "source": [
    "import torch\n",
    "from torch.nn import Embedding\n",
    "# Embedding??"
   ]
  },
  {
   "cell_type": "code",
   "execution_count": 10,
   "metadata": {
    "colab": {},
    "colab_type": "code",
    "id": "hPUY40tXbj-m"
   },
   "outputs": [],
   "source": [
    "lookup = Embedding(\n",
    "    num_embeddings=len(dictionary), \n",
    "    embedding_dim=16, \n",
    "    padding_idx=dictionary.get_id('<pad>')\n",
    ")"
   ]
  },
  {
   "cell_type": "code",
   "execution_count": 11,
   "metadata": {
    "colab": {
     "base_uri": "https://localhost:8080/",
     "height": 34
    },
    "colab_type": "code",
    "id": "eSDJy98Jbj-o",
    "outputId": "3e1b3726-d1ae-439e-8a2b-432257b52651"
   },
   "outputs": [
    {
     "data": {
      "text/plain": [
       "torch.Size([20089, 16])"
      ]
     },
     "execution_count": 11,
     "metadata": {},
     "output_type": "execute_result"
    }
   ],
   "source": [
    "lookup.weight.size()"
   ]
  },
  {
   "cell_type": "code",
   "execution_count": 12,
   "metadata": {
    "colab": {
     "base_uri": "https://localhost:8080/",
     "height": 51
    },
    "colab_type": "code",
    "id": "3WMCuASKbj-s",
    "outputId": "91c5996e-fd32-4f4b-841d-9ac5c7a8716c"
   },
   "outputs": [
    {
     "name": "stdout",
     "output_type": "stream",
     "text": [
      "token ids: [[179, 373]]\n",
      "tokens embedding size: torch.Size([1, 2, 16])\n",
      "embedding for 'hello' (179):\n"
     ]
    },
    {
     "data": {
      "text/plain": [
       "tensor([ 0.7971,  0.4372, -0.4729,  0.7916, -0.5255, -1.0951, -1.5446,  1.5424,\n",
       "         0.7957,  0.6582, -1.3437,  2.2629, -1.5792,  0.6498, -0.5445, -0.6566])"
      ]
     },
     "execution_count": 12,
     "metadata": {},
     "output_type": "execute_result"
    }
   ],
   "source": [
    "input_ = dictionary.encode_token_seq(['hello', 'world'])\n",
    "print(f'token ids: {[input_]}')\n",
    "\n",
    "input_embedded = lookup(torch.tensor([input_], dtype=torch.long))\n",
    "print(f'tokens embedding size: {input_embedded.size()}')\n",
    "\n",
    "print(\"embedding for 'hello' (179):\")\n",
    "input_embedded[0, 0].data"
   ]
  },
  {
   "cell_type": "markdown",
   "metadata": {},
   "source": [
    "### Defining the neural network\n",
    "\n",
    "There are three components:\n",
    "1. `Embedding` $$\\large f_{embed}:\\text{vocab}\\rightarrow \\mathbb{R}^d$$\n",
    "2. Hidden layer $$\\large f_{hidden}: \\mathbb{R}^{nd}\\rightarrow \\mathbb{R}^h$$\n",
    "3. Projection $$\\large f_{project}: \\mathbb{R}^{h}\\rightarrow \\mathbb{R}^{|vocab|}$$\n",
    "\n",
    "The conditional distribution is then: $$\\large p(x_t|x_{t-1},\\ldots,x_{t-n-1})=\\text{softmax}(f_{project}(f_{hidden}(f_{embed}(x_{t-1},\\ldots,x_{t-n-1}))).$$\n",
    "\n",
    "\n",
    "We implement the hidden layer and projection with Pytorch `nn.Linear` layers:"
   ]
  },
  {
   "cell_type": "code",
   "execution_count": 13,
   "metadata": {
    "colab": {},
    "colab_type": "code",
    "id": "dvlP70FiOrJ3"
   },
   "outputs": [],
   "source": [
    "import torch\n",
    "import torch.nn as nn\n",
    "\n",
    "class NeuralNgramLM(nn.Module):\n",
    "    def __init__(self, options):\n",
    "        super().__init__()\n",
    "        self.lookup = nn.Embedding(\n",
    "            num_embeddings=options['num_embeddings'], \n",
    "            embedding_dim=options['embedding_dim']\n",
    "        )\n",
    "        self.hidden_layer = nn.Linear(\n",
    "            options['input_size'], \n",
    "            options['hidden_size'], \n",
    "            bias=True\n",
    "        )\n",
    "        self.projection = nn.Linear(\n",
    "            options['hidden_size'], \n",
    "            options['num_embeddings']\n",
    "        )\n",
    "\n",
    "    def forward(self, inp):\n",
    "        embedded = self.lookup(inp)\n",
    "        embedded_timeflat = embedded.view(embedded.size(0), -1)\n",
    "        hidden_out = self.hidden_layer(embedded_timeflat)\n",
    "        hidden_out = torch.tanh(hidden_out)\n",
    "        logits = self.projection(hidden_out)\n",
    "        return logits"
   ]
  },
  {
   "cell_type": "markdown",
   "metadata": {},
   "source": [
    "### 3. Train the model\n",
    "\n",
    "#### Initialize the model, criterion (loss), and optimizer"
   ]
  },
  {
   "cell_type": "code",
   "execution_count": 16,
   "metadata": {
    "colab": {},
    "colab_type": "code",
    "id": "VfjWvd6jTDjh"
   },
   "outputs": [],
   "source": [
    "import os\n",
    "import torch\n",
    "import torch.nn as nn\n",
    "import torch.optim as optim\n",
    "\n",
    "load_pretrained = False\n",
    "\n",
    "num_gpus = torch.cuda.device_count() # Setting GPU's\n",
    "if num_gpus > 0:\n",
    "    current_device = 'cuda'\n",
    "else:\n",
    "    current_device = 'cpu'\n",
    "\n",
    "if load_pretrained: # loading pretrained model\n",
    "    if not os.path.exists('personachat_ffnn_lm.pt'):\n",
    "        raise EOFError('No model downloaded!')\n",
    "    model_dict = torch.load(\n",
    "        'personachat_ffnn_lm.pt',\n",
    "        map_location=torch.device(current_device)\n",
    "    )\n",
    "    \n",
    "    options = model_dict['options']\n",
    "    model = NeuralNgramLM(options).to(current_device)\n",
    "    model.load_state_dict(\n",
    "        model_dict['model_dict']\n",
    "    )\n",
    "    \n",
    "else: # Training from Scratch\n",
    "    embedding_size = 256\n",
    "    ngram_order = 4\n",
    "    input_size = embedding_size * ngram_order\n",
    "    hidden_size = 512\n",
    "\n",
    "    options = {\n",
    "        'num_embeddings': len(dictionary),\n",
    "        'embedding_dim': embedding_size,\n",
    "        'input_size': input_size,\n",
    "        'hidden_size': hidden_size,\n",
    "    }\n",
    "    model = NeuralNgramLM(options).to(current_device)\n",
    "\n",
    "criterion = nn.CrossEntropyLoss(\n",
    "    ignore_index=dictionary.get_id('<pad>'), \n",
    "    reduction='sum'\n",
    ")\n",
    "\n",
    "model_parameters = [p for p in model.parameters() if p.requires_grad]\n",
    "optimizer = optim.SGD(model_parameters, lr=0.01, momentum=0.99)"
   ]
  },
  {
   "cell_type": "markdown",
   "metadata": {},
   "source": [
    "#### Training Loop"
   ]
  },
  {
   "cell_type": "code",
   "execution_count": 17,
   "metadata": {
    "colab": {
     "base_uri": "https://localhost:8080/",
     "height": 309
    },
    "colab_type": "code",
    "id": "dHeMz2Q2ULYQ",
    "outputId": "be100b2c-b6bd-454d-d86b-9080e25977cb"
   },
   "outputs": [
    {
     "name": "stdout",
     "output_type": "stream",
     "text": [
      "Step 0 avg train loss = 9.9813\n",
      "Step 100 avg train loss = 7.4419\n",
      "Step 200 avg train loss = 6.4099\n",
      "Step 300 avg train loss = 5.8711\n",
      "Step 400 avg train loss = 5.5397\n",
      "Step 500 avg train loss = 5.3164\n",
      "Step 600 avg train loss = 5.1533\n",
      "Step 700 avg train loss = 5.0239\n",
      "Step 800 avg train loss = 4.9217\n",
      "Validation loss after 0 epoch = 4.1676\n",
      "Step 0 avg train loss = 4.1571\n",
      "Step 100 avg train loss = 4.0992\n",
      "Step 200 avg train loss = 4.0876\n",
      "Step 300 avg train loss = 4.0729\n",
      "Step 400 avg train loss = 4.0641\n",
      "Step 500 avg train loss = 4.0536\n",
      "Step 600 avg train loss = 4.0436\n",
      "Step 700 avg train loss = 4.0346\n",
      "Step 800 avg train loss = 4.0266\n",
      "Validation loss after 1 epoch = 4.0019\n",
      "Step 0 avg train loss = 3.9315\n",
      "Step 100 avg train loss = 3.8917\n",
      "Step 200 avg train loss = 3.8917\n",
      "Step 300 avg train loss = 3.8859\n",
      "Step 400 avg train loss = 3.8779\n",
      "Step 500 avg train loss = 3.8733\n",
      "Step 600 avg train loss = 3.8737\n",
      "Step 700 avg train loss = 3.8724\n",
      "Step 800 avg train loss = 3.8680\n",
      "Validation loss after 2 epoch = 3.9380\n",
      "Step 0 avg train loss = 3.7164\n",
      "Step 100 avg train loss = 3.7663\n",
      "Step 200 avg train loss = 3.7653\n",
      "Step 300 avg train loss = 3.7609\n",
      "Step 400 avg train loss = 3.7639\n",
      "Step 500 avg train loss = 3.7658\n",
      "Step 600 avg train loss = 3.7663\n",
      "Step 700 avg train loss = 3.7655\n",
      "Step 800 avg train loss = 3.7661\n",
      "Validation loss after 3 epoch = 3.9019\n",
      "Step 0 avg train loss = 3.6773\n",
      "Step 100 avg train loss = 3.6888\n",
      "Step 200 avg train loss = 3.6863\n",
      "Step 300 avg train loss = 3.6888\n",
      "Step 400 avg train loss = 3.6903\n",
      "Step 500 avg train loss = 3.6913\n",
      "Step 600 avg train loss = 3.6911\n",
      "Step 700 avg train loss = 3.6918\n",
      "Step 800 avg train loss = 3.6925\n",
      "Validation loss after 4 epoch = 3.8697\n",
      "Step 0 avg train loss = 3.5856\n",
      "Step 100 avg train loss = 3.6100\n",
      "Step 200 avg train loss = 3.6210\n",
      "Step 300 avg train loss = 3.6257\n",
      "Step 400 avg train loss = 3.6268\n",
      "Step 500 avg train loss = 3.6302\n",
      "Step 600 avg train loss = 3.6318\n",
      "Step 700 avg train loss = 3.6319\n",
      "Step 800 avg train loss = 3.6305\n",
      "Validation loss after 5 epoch = 3.8587\n",
      "Step 0 avg train loss = 3.5764\n",
      "Step 100 avg train loss = 3.5512\n",
      "Step 200 avg train loss = 3.5623\n",
      "Step 300 avg train loss = 3.5657\n",
      "Step 400 avg train loss = 3.5736\n",
      "Step 500 avg train loss = 3.5769\n",
      "Step 600 avg train loss = 3.5787\n",
      "Step 700 avg train loss = 3.5800\n",
      "Step 800 avg train loss = 3.5828\n",
      "Validation loss after 6 epoch = 3.8513\n",
      "Step 0 avg train loss = 3.6185\n",
      "Step 100 avg train loss = 3.5107\n",
      "Step 200 avg train loss = 3.5161\n",
      "Step 300 avg train loss = 3.5186\n",
      "Step 400 avg train loss = 3.5210\n",
      "Step 500 avg train loss = 3.5267\n",
      "Step 600 avg train loss = 3.5293\n",
      "Step 700 avg train loss = 3.5304\n",
      "Step 800 avg train loss = 3.5340\n",
      "Validation loss after 7 epoch = 3.8396\n",
      "Step 0 avg train loss = 3.3902\n",
      "Step 100 avg train loss = 3.4571\n",
      "Step 200 avg train loss = 3.4667\n",
      "Step 300 avg train loss = 3.4748\n",
      "Step 400 avg train loss = 3.4808\n",
      "Step 500 avg train loss = 3.4852\n",
      "Step 600 avg train loss = 3.4882\n",
      "Step 700 avg train loss = 3.4890\n",
      "Step 800 avg train loss = 3.4910\n",
      "Validation loss after 8 epoch = 3.8423\n",
      "Step 0 avg train loss = 3.4043\n",
      "Step 100 avg train loss = 3.4129\n",
      "Step 200 avg train loss = 3.4252\n",
      "Step 300 avg train loss = 3.4308\n",
      "Step 400 avg train loss = 3.4334\n",
      "Step 500 avg train loss = 3.4393\n",
      "Step 600 avg train loss = 3.4438\n",
      "Step 700 avg train loss = 3.4486\n",
      "Step 800 avg train loss = 3.4538\n",
      "Validation loss after 9 epoch = 3.8446\n"
     ]
    }
   ],
   "source": [
    "plot_cache = []\n",
    "\n",
    "if not load_pretrained:\n",
    "    for epoch_number in range(10):\n",
    "        avg_loss = -1\n",
    "\n",
    "        # -- Training\n",
    "        model.train()\n",
    "\n",
    "        train_loss_cache = 0\n",
    "        train_non_pad_tokens_cache = 0\n",
    "\n",
    "        # == Iterate through batches from the dataset.\n",
    "        for i, (inp, target) in enumerate(dataloaders['train']):\n",
    "            optimizer.zero_grad()\n",
    "            inp = inp.to(current_device)\n",
    "            target = target.to(current_device)\n",
    "\n",
    "            # == Forward pass.\n",
    "            logits = model(inp)\n",
    "\n",
    "            # == Computed (summed) loss.\n",
    "            loss = criterion(logits.view(-1, logits.size(-1)), target.view(-1))\n",
    "            train_loss_cache += loss.item()\n",
    "\n",
    "            # == Compute the number of non `<pad>` tokens in the target.\n",
    "            non_pad_tokens = target.view(-1).ne(dictionary.get_id('<pad>')).sum().item()\n",
    "\n",
    "            # == Normalize the (summed) loss so that it is an average.\n",
    "            loss /= non_pad_tokens  \n",
    "            loss.backward()\n",
    "            optimizer.step()\n",
    "\n",
    "            train_non_pad_tokens_cache += non_pad_tokens\n",
    "            if i % 100 == 0:\n",
    "                avg_loss = train_loss_cache/train_non_pad_tokens_cache\n",
    "                print('Step {} avg train loss = {:.{prec}f}'.format(i, avg_loss, prec=4))\n",
    "\n",
    "        # -- Validation\n",
    "        valid_loss_cache = 0\n",
    "        valid_non_pad_tokens_cache = 0\n",
    "\n",
    "        model.eval()\n",
    "        with torch.no_grad():\n",
    "            non_pad_tokens = 0\n",
    "            for i, (inp, target) in enumerate(dataloaders['valid']):\n",
    "                inp = inp.to(current_device)\n",
    "                target = target.to(current_device)\n",
    "\n",
    "                # == Forward pass and loss\n",
    "                logits = model(inp)\n",
    "                loss = criterion(logits.view(-1, logits.size(-1)), target.view(-1))\n",
    "                valid_loss_cache += loss.item()            \n",
    "\n",
    "                # == Normalize the loss\n",
    "                non_pad_tokens = target.view(-1).ne(dictionary.get_id('<pad>')).sum().item()\n",
    "                valid_non_pad_tokens_cache += non_pad_tokens\n",
    "\n",
    "            avg_val_loss = valid_loss_cache / valid_non_pad_tokens_cache\n",
    "            print('Validation loss after {} epoch = {:.{prec}f}'.format(epoch_number, avg_val_loss, prec=4))\n",
    "\n",
    "        plot_cache.append((avg_loss, avg_val_loss))"
   ]
  },
  {
   "cell_type": "code",
   "execution_count": 18,
   "metadata": {
    "colab": {},
    "colab_type": "code",
    "id": "DEjiLvdFmjrg"
   },
   "outputs": [],
   "source": [
    "if load_pretrained:\n",
    "    plot_cache = model_dict['loss_cache']"
   ]
  },
  {
   "cell_type": "code",
   "execution_count": 19,
   "metadata": {
    "colab": {
     "base_uri": "https://localhost:8080/",
     "height": 281
    },
    "colab_type": "code",
    "id": "C0nNouO4Z-TJ",
    "outputId": "1f9b3a4f-b801-4d7a-dc38-70c1baa488f1"
   },
   "outputs": [
    {
     "data": {
      "image/png": "[encoded data removed]",
      "text/plain": [
       "<Figure size 432x288 with 1 Axes>"
      ]
     },
     "metadata": {
      "needs_background": "light"
     },
     "output_type": "display_data"
    }
   ],
   "source": [
    "import matplotlib.pyplot as plt\n",
    "import numpy\n",
    "\n",
    "epochs = numpy.array(list(range(len(plot_cache))))\n",
    "plt.plot(epochs, [i[0] for i in plot_cache], label='Train loss')\n",
    "plt.plot(epochs, [i[1] for i in plot_cache], label='Valid loss')\n",
    "\n",
    "plt.legend()\n",
    "plt.title('Loss curves')\n",
    "plt.show()"
   ]
  },
  {
   "cell_type": "code",
   "execution_count": null,
   "metadata": {},
   "outputs": [],
   "source": []
  },
  {
   "cell_type": "markdown",
   "metadata": {
    "colab_type": "text",
    "id": "UTyb2zZYbj_O"
   },
   "source": [
    "### 4. Evaluate the model\n",
    "\n",
    "#### Recap: Perplexity\n",
    "Recall **perplexity** from the preceding lab:\n",
    "\n",
    "\\begin{align}\n",
    "\\large \\text{ppl}(p, D) &\\large = 2^{-\\frac{1}{N_{total}}\\log_2 p(D)}\n",
    "\\end{align}\n",
    "\n",
    "where $D=\\{(w_1,\\ldots,w_{N_i})_i\\}_{i=1}^M$ is a dataset of $M$ sequences with total length $N_{\\text{total}}=\\sum_{i}N_i$.\n",
    "\n",
    "#### Computing perplexity\n",
    "\n",
    "Our model's loss is the (negative) log probability of every token in the output sequence, which can be used to compute perplexity.\n",
    "\n",
    "We define perplexity using the **base 2** logarithm. By default `torch.log` uses base `e`. \n",
    "\n",
    "To **convert to base 2** we use: `log_2 p = log_e p / log_e 2`."
   ]
  },
  {
   "cell_type": "code",
   "execution_count": 20,
   "metadata": {
    "colab": {
     "base_uri": "https://localhost:8080/",
     "height": 281
    },
    "colab_type": "code",
    "id": "dcuSFVZvbmWR",
    "outputId": "7441ed5d-59fc-44b3-96fb-726cfcec92cc"
   },
   "outputs": [
    {
     "data": {
      "image/png": "[encoded data removed]",
      "text/plain": [
       "<Figure size 432x288 with 1 Axes>"
      ]
     },
     "metadata": {
      "needs_background": "light"
     },
     "output_type": "display_data"
    }
   ],
   "source": [
    "import matplotlib.pyplot as plt\n",
    "import numpy\n",
    "\n",
    "epochs = numpy.array(list(range(len(plot_cache))))\n",
    "plt.plot(epochs, [2**(i[0]/numpy.log(2)) for i in plot_cache], label='Train ppl')\n",
    "plt.plot(epochs, [2**(i[1]/numpy.log(2)) for i in plot_cache], label='Valid ppl')\n",
    "\n",
    "plt.legend()\n",
    "plt.title('PPL curves')\n",
    "plt.show()"
   ]
  },
  {
   "cell_type": "code",
   "execution_count": 21,
   "metadata": {
    "colab": {},
    "colab_type": "code",
    "id": "9t_WHUYcOe_8"
   },
   "outputs": [],
   "source": [
    "# Saving the model\n",
    "if False:\n",
    "    torch.save({\n",
    "        'options': options,\n",
    "        'loss_cache': plot_cache,\n",
    "        'model_dict': model.state_dict()\n",
    "    }, './persona_ffnn_lm.pt')"
   ]
  },
  {
   "cell_type": "markdown",
   "metadata": {},
   "source": [
    "#### Conditional probability queries\n",
    "We can now query the model for conditional probabilities:\n",
    "\n",
    "\\begin{align}\n",
    "\\large p(x_t|x_{t-1},\\ldots,x_{t-4}) \n",
    "\\end{align} "
   ]
  },
  {
   "cell_type": "code",
   "execution_count": 22,
   "metadata": {},
   "outputs": [
    {
     "name": "stdout",
     "output_type": "stream",
     "text": [
      "p( dog  | <bos> i have a )\t= 1.078E-01\n",
      "p( zebra  | <bos> i have a )\t= 1.193E-04\n",
      "p( donut  | <bos> i have a )\t= 3.836E-06\n",
      "p( velociraptor  | <bos> i have a )\t= 7.916E-07\n"
     ]
    }
   ],
   "source": [
    "import torch\n",
    "\n",
    "def next_token_probabilities(prefix, token):\n",
    "    inp = dictionary.encode_token_seq(prefix.split(' '))\n",
    "    with torch.no_grad():\n",
    "        model.eval()\n",
    "        logits = model(\n",
    "            torch.tensor([inp], dtype=torch.long).to(current_device)\n",
    "        )\n",
    "    token_id = dictionary.get_id(token)\n",
    "    p_next_token = torch.softmax(logits, dim=-1)\n",
    "    return p_next_token[0, token_id]\n",
    "\n",
    "prefix = '<bos> i have a'\n",
    "\n",
    "for w in ['dog', 'zebra', 'donut', 'velociraptor']:\n",
    "    prob = next_token_probabilities(prefix, w)\n",
    "    print('p( %s  | %s )\\t= %.3E' % (w, prefix, prob))\n",
    "    "
   ]
  },
  {
   "cell_type": "markdown",
   "metadata": {},
   "source": [
    "\n",
    "\n",
    "And sort by the highest probability next-tokens:\n",
    "\n",
    "$\\large \\texttt{sort}(p(\\cdot|\\underbrace{x_{<t}}_{\\text{prefix}}))$"
   ]
  },
  {
   "cell_type": "code",
   "execution_count": 23,
   "metadata": {
    "colab": {
     "base_uri": "https://localhost:8080/",
     "height": 404
    },
    "colab_type": "code",
    "id": "l4zVv--owi3d",
    "outputId": "2c64752d-d913-4dfa-814d-ba7042982462"
   },
   "outputs": [
    {
     "name": "stdout",
     "output_type": "stream",
     "text": [
      "p( dog  | <bos> i have a )\t= 0.10780\n",
      "p( cat  | <bos> i have a )\t= 0.04659\n",
      "p( lot  | <bos> i have a )\t= 0.04013\n",
      "p( job  | <bos> i have a )\t= 0.02361\n",
      "p( couple  | <bos> i have a )\t= 0.02241\n",
      "p( big  | <bos> i have a )\t= 0.01919\n",
      "p( few  | <bos> i have a )\t= 0.01763\n",
      "p( wife  | <bos> i have a )\t= 0.01694\n",
      "p( son  | <bos> i have a )\t= 0.01343\n",
      "p( little  | <bos> i have a )\t= 0.01308\n"
     ]
    }
   ],
   "source": [
    "def get_top_token_given_prefix(prefix, top=10):\n",
    "    inp = dictionary.encode_token_seq(prefix.split(' '))\n",
    "    with torch.no_grad():\n",
    "        model.eval()\n",
    "        logits = model(\n",
    "            torch.tensor([inp], dtype=torch.long).to(current_device)\n",
    "        )\n",
    "        \n",
    "    p_next_token = torch.softmax(logits, dim=-1)\n",
    "    sorted_probs, sorted_token_ids = torch.topk(p_next_token[0], top)\n",
    "\n",
    "    for i in range(sorted_token_ids.size(0)):\n",
    "        print('p( %s  | %s )\\t= %.5f' % \n",
    "              (dictionary.decode_idx_seq([sorted_token_ids[i]])[0], \n",
    "               prefix, \n",
    "               sorted_probs[i])\n",
    "        )\n",
    "\n",
    "get_top_token_given_prefix('<bos> i have a')  # '<bos> the weather is'  '<bos> <bos> <bos> hello'"
   ]
  },
  {
   "cell_type": "raw",
   "metadata": {},
   "source": []
  },
  {
   "cell_type": "markdown",
   "metadata": {
    "colab_type": "text",
    "id": "Eb9Va-p4bj96"
   },
   "source": [
    "# Recurrent neural network language model\n",
    "Recall that in **language modeling**, we want to model the probability of variable length sequences, $$p(x_1,\\ldots,x_T)=\\prod_{t=1}^T p(x_t|x_{<t}).$$\n",
    "\n",
    "*Unlike n-gram models*, we will now define a model that allows a **full history** $x_{<t}$.\n",
    "\n",
    "To do so, we will use a function called a **recurrent neural network** to compute each distribution $p(x_t|x_{<t})$:\n",
    "\\begin{align}\n",
    "h_t &= f^{\\text{RNN}}_{\\theta}(x_{t-1}, h_{t-1}) & \\mathbb{R}^d\\\\\n",
    "s_t &= Wh_t & \\mathbb{R}^{\\text{|vocab|}}\\\\\n",
    "p_{\\theta}(x_t|x_{<t}) &= \\text{softmax}(s_t) & [0,1]^{\\text{|vocab|}}\n",
    "\\end{align}\n",
    "\n",
    "where $h_t$ is an internal (hidden) state of the model at time step $t$, and $x_t$ is an input at time step $t$.\n",
    "\n",
    "<img src=\"img/rnn.png\" alt=\"Drawing\" style=\"width: 35%; margin-left: 29%; padding: 3em;\"/>"
   ]
  },
  {
   "cell_type": "markdown",
   "metadata": {},
   "source": [
    "\n",
    "In the simplest form used in practice, $f_{\\theta}^{\\text{RNN}}$ is defined as:\n",
    " $$f_{\\theta}^{\\text{RNN}}(x_{t-1}, h_{t-1}) = \\text{tanh}(a_t)\\\\ a_t = b + W \\cdot h_{t-1} + U \\cdot x_{t-1},$$\n",
    " \n",
    "but there are other variants (e.g. [GRU](https://arxiv.org/pdf/1406.1078.pdf), [LSTM](https://www.bioinf.jku.at/publications/older/2604.pdf)).\n",
    "\n",
    "Similar to the n-gram neural network above, the goal at time $t$ is to **predict the next token $x_t$**."
   ]
  },
  {
   "cell_type": "markdown",
   "metadata": {
    "colab_type": "text",
    "id": "DLTwdNF-bj97"
   },
   "source": [
    "### Pytorch implementation: `RNNCell`"
   ]
  },
  {
   "cell_type": "code",
   "execution_count": 24,
   "metadata": {
    "colab": {},
    "colab_type": "code",
    "id": "F1WfgVLybj98"
   },
   "outputs": [],
   "source": [
    "from torch.nn import RNNCell\n",
    "# RNNCell??"
   ]
  },
  {
   "cell_type": "code",
   "execution_count": 25,
   "metadata": {
    "colab": {},
    "colab_type": "code",
    "id": "OseW45d9bj9_"
   },
   "outputs": [],
   "source": [
    "import torch\n",
    "hidden_size = 16\n",
    "embedding_dim = 8\n",
    "\n",
    "rnn_cell = RNNCell(embedding_dim, hidden_size)"
   ]
  },
  {
   "cell_type": "code",
   "execution_count": 26,
   "metadata": {
    "colab": {
     "base_uri": "https://localhost:8080/",
     "height": 104
    },
    "colab_type": "code",
    "id": "UnPEPW5Nbj-B",
    "outputId": "4dbe89a7-989f-4db7-e89e-bd2d0d0fe13d"
   },
   "outputs": [
    {
     "name": "stdout",
     "output_type": "stream",
     "text": [
      "tensor([[0., 0., 0., 0., 0., 0., 0., 0., 0., 0., 0., 0., 0., 0., 0., 0.]])\n",
      "torch.Size([1, 16])\n"
     ]
    }
   ],
   "source": [
    "hidden = torch.zeros(1, hidden_size)\n",
    "print(hidden)\n",
    "print(hidden.size())"
   ]
  },
  {
   "cell_type": "code",
   "execution_count": 27,
   "metadata": {
    "colab": {
     "base_uri": "https://localhost:8080/",
     "height": 884
    },
    "colab_type": "code",
    "id": "9TIjbLsMbj-C",
    "outputId": "a3dd9a6a-fa65-4ff6-b499-d5acc650a94a"
   },
   "outputs": [
    {
     "name": "stdout",
     "output_type": "stream",
     "text": [
      "tensor([[0.9558, 0.2140, 0.1003, 0.8422, 0.5581, 0.6165, 0.1444, 0.8741]])\n",
      "torch.Size([1, 8])\n"
     ]
    }
   ],
   "source": [
    "random_input = torch.rand(1, embedding_dim)\n",
    "print(random_input)\n",
    "print(random_input.size())"
   ]
  },
  {
   "cell_type": "code",
   "execution_count": 28,
   "metadata": {
    "colab": {
     "base_uri": "https://localhost:8080/",
     "height": 121
    },
    "colab_type": "code",
    "id": "1n2k_CEBbj-E",
    "outputId": "3a521311-9bca-404d-8928-958f369c1129"
   },
   "outputs": [
    {
     "name": "stdout",
     "output_type": "stream",
     "text": [
      "tensor([[ 0.2968, -0.1295,  0.0410,  0.1925, -0.1607,  0.1743, -0.2735, -0.2351,\n",
      "          0.4666,  0.3320, -0.3418, -0.2736,  0.3264,  0.4674,  0.4746,  0.0234]],\n",
      "       grad_fn=<TanhBackward>)\n",
      "torch.Size([1, 16])\n"
     ]
    }
   ],
   "source": [
    "hidden = rnn_cell(random_input, hidden)\n",
    "print(hidden)\n",
    "print(hidden.size())"
   ]
  },
  {
   "cell_type": "markdown",
   "metadata": {
    "colab_type": "text",
    "id": "L4QaNlS2bj-O"
   },
   "source": [
    "### Pytorch implementation: `RNN`\n",
    "\n",
    "`RNNCell` is a building block of an RNN model. The Pytorch `RNN` model supports multi-layer networks by creating separate `RNNCell`s for every layer. \n",
    "\n",
    "`RNN` can also process a whole sequence of data by iteratively applying `RNNCell`."
   ]
  },
  {
   "cell_type": "code",
   "execution_count": 29,
   "metadata": {
    "colab": {},
    "colab_type": "code",
    "id": "FCvackw4bj-O"
   },
   "outputs": [],
   "source": [
    "from torch.nn import RNNBase, RNN\n",
    "# RNNBase.__init__??\n",
    "# RNN.__init__??"
   ]
  },
  {
   "cell_type": "markdown",
   "metadata": {
    "colab_type": "text",
    "id": "LHqYjtCYbj--"
   },
   "source": [
    "### 1. Define the model"
   ]
  },
  {
   "cell_type": "code",
   "execution_count": 30,
   "metadata": {
    "colab": {},
    "colab_type": "code",
    "id": "IdlUbyiybj_A"
   },
   "outputs": [],
   "source": [
    "import torch.nn as nn\n",
    "\n",
    "class RNNLanguageModel(nn.Module):\n",
    "    def __init__(self, options):\n",
    "        super().__init__()\n",
    "        \n",
    "        self.lookup = nn.Embedding(\n",
    "            num_embeddings=options['num_embeddings'], \n",
    "            embedding_dim=options['embedding_dim'], \n",
    "            padding_idx=options['padding_idx']\n",
    "        )\n",
    "        self.rnn = nn.RNN(\n",
    "            options['input_size'], \n",
    "            options['hidden_size'], \n",
    "            options['num_layers'], \n",
    "            dropout=options['rnn_dropout'], \n",
    "            batch_first=True\n",
    "        )\n",
    "        self.projection = nn.Linear(\n",
    "            options['hidden_size'], \n",
    "            options['num_embeddings']\n",
    "        )\n",
    "        \n",
    "    def forward(self, token_ids):\n",
    "        embeddings = self.lookup(token_ids)\n",
    "        output, hidden = self.rnn(embeddings)\n",
    "        logits = self.projection(output) \n",
    "        return logits"
   ]
  },
  {
   "cell_type": "markdown",
   "metadata": {},
   "source": [
    "### 2. Prepare the data"
   ]
  },
  {
   "cell_type": "markdown",
   "metadata": {},
   "source": [
    "#### Dataset and Dataloader\n",
    "\n",
    "See `data_utils.py` for the implementation. "
   ]
  },
  {
   "cell_type": "code",
   "execution_count": 31,
   "metadata": {},
   "outputs": [
    {
     "name": "stderr",
     "output_type": "stream",
     "text": [
      "100%|██████████| 133176/133176 [00:25<00:00, 5250.81it/s]\n",
      "100%|██████████| 16181/16181 [00:03<00:00, 4059.85it/s]\n"
     ]
    }
   ],
   "source": [
    "datasets_ = data_utils.load_personachat('./')\n",
    "dictionary = data_utils.Dictionary(datasets_, include_valid=True)\n",
    "datasets_ = data_utils.tokenize_dataset(datasets_, dictionary)\n",
    "\n",
    "datasets = {}\n",
    "for split, dataset in datasets_.items():\n",
    "    datasets[split] = data_utils.TensoredDataset(dataset, dictionary.get_id('<pad>'))"
   ]
  },
  {
   "cell_type": "markdown",
   "metadata": {},
   "source": [
    "- The **input** is now a **full sequence**.\n",
    "- The **output** is the **next token** for each position of the input:"
   ]
  },
  {
   "cell_type": "code",
   "execution_count": 32,
   "metadata": {},
   "outputs": [
    {
     "name": "stdout",
     "output_type": "stream",
     "text": [
      "Input: \n",
      "\ttensor([ 0,  4,  5,  6,  7,  8,  9, 10, 11, 12])\n",
      "\t(['<bos>', 'i', 'am', 'doing', 'great', 'except', 'for', 'the', 'allergies', '.'])\n",
      "Output: \n",
      "\ttensor([ 4,  5,  6,  7,  8,  9, 10, 11, 12,  1])\n",
      "\t(['i', 'am', 'doing', 'great', 'except', 'for', 'the', 'allergies', '.', '<eos>'])\n"
     ]
    }
   ],
   "source": [
    "inp, out = datasets['train'][0]\n",
    "\n",
    "print(\"Input: \\n\\t%s\\n\\t(%s)\" %\n",
    "      (inp.data[0], dictionary.decode_idx_seq(inp.data[0])))\n",
    "\n",
    "print(\"Output: \\n\\t%s\\n\\t(%s)\" %\n",
    "      (out.data[0], dictionary.decode_idx_seq(out.data[0])))"
   ]
  },
  {
   "cell_type": "markdown",
   "metadata": {},
   "source": [
    "#### Pytorch dataloader"
   ]
  },
  {
   "cell_type": "code",
   "execution_count": 33,
   "metadata": {},
   "outputs": [],
   "source": [
    "dataloaders = {}\n",
    "batch_size = 128\n",
    "\n",
    "for split, dataset in datasets.items():\n",
    "    dataloaders[split] = DataLoader(\n",
    "        dataset, \n",
    "        batch_size=batch_size, \n",
    "        shuffle=True, \n",
    "        collate_fn=dataset.pad_collate_fn  # pads the sequences in the batch\n",
    "    )"
   ]
  },
  {
   "cell_type": "markdown",
   "metadata": {},
   "source": [
    "#### Padding to handle variable sequence lengths:"
   ]
  },
  {
   "cell_type": "code",
   "execution_count": 34,
   "metadata": {},
   "outputs": [
    {
     "name": "stdout",
     "output_type": "stream",
     "text": [
      "Batch size torch.Size([128, 20])\n",
      "Batch element 1: \n",
      "\ttensor([   0,   87,   17,   87,  202, 1097,   86,   26,  922,   24,    4,   87,\n",
      "         217,  182,   43,   12,    2,    2,    2,    2])\n",
      "\t(<bos> do you do much yoga in your retirement ? i do every morning , . <pad> <pad> <pad> <pad>)\n",
      "Batch element 2: \n",
      "\ttensor([   0, 4467, 1471,   12,   17, 1458,    9, 1161,   24,    2,    2,    2,\n",
      "           2,    2,    2,    2,    2,    2,    2,    2])\n",
      "\t(<bos> preach girl . you excited for winter ? <pad> <pad> <pad> <pad> <pad> <pad> <pad> <pad> <pad> <pad> <pad>)\n"
     ]
    }
   ],
   "source": [
    "inp, target = next(dataloaders['train'].__iter__())\n",
    "\n",
    "print(\"Batch size %s\" % str(inp.shape))\n",
    "print(\"Batch element 1: \\n\\t%s\\n\\t(%s)\" %\n",
    "      (inp.data[0], ' '.join(dictionary.decode_idx_seq(inp.data[0]))))\n",
    "print(\"Batch element 2: \\n\\t%s\\n\\t(%s)\" %\n",
    "      (inp.data[1], ' '.join(dictionary.decode_idx_seq(inp.data[1]))))"
   ]
  },
  {
   "cell_type": "markdown",
   "metadata": {},
   "source": [
    "### 3. Train the model\n",
    "\n",
    "#### Initializing model, criterion, and optimizer (similar to the feedforward model)"
   ]
  },
  {
   "cell_type": "code",
   "execution_count": 51,
   "metadata": {
    "colab": {},
    "colab_type": "code",
    "id": "zQB-RbIhbj_B"
   },
   "outputs": [],
   "source": [
    "import torch\n",
    "import torch.nn as nn\n",
    "import torch.optim as optim\n",
    "\n",
    "load_pretrained = False\n",
    "\n",
    "num_gpus = torch.cuda.device_count()\n",
    "if num_gpus > 0:\n",
    "    current_device = 'cuda'\n",
    "else:\n",
    "    current_device = 'cpu'\n",
    "\n",
    "if load_pretrained:\n",
    "    if not os.path.exists('personachat_rnn_lm.pt'):\n",
    "        raise EOFError('Download pretrained model!')\n",
    "    model_dict = torch.load(\n",
    "        'personachat_rnn_lm.pt',\n",
    "        map_location=torch.device(current_device)\n",
    "    )\n",
    "    \n",
    "    options = model_dict['options']\n",
    "    model = RNNLanguageModel(options).to(current_device)\n",
    "    model.load_state_dict(model_dict['model_dict'])\n",
    "    \n",
    "else:\n",
    "    embedding_size = 256\n",
    "    hidden_size = 512\n",
    "    num_layers = 3\n",
    "    rnn_dropout = 0.3\n",
    "\n",
    "    options = {\n",
    "        'num_embeddings': len(dictionary),\n",
    "        'embedding_dim': embedding_size,\n",
    "        'padding_idx': dictionary.get_id('<pad>'),\n",
    "        'input_size': embedding_size,\n",
    "        'hidden_size': hidden_size,\n",
    "        'num_layers': num_layers,\n",
    "        'rnn_dropout': rnn_dropout,\n",
    "    }\n",
    "    model = RNNLanguageModel(options).to(current_device)\n",
    "    \n",
    "\n",
    "criterion = nn.CrossEntropyLoss(\n",
    "    ignore_index=dictionary.get_id('<pad>'), # Telling the loss function to ignore padding indices\n",
    "    reduction='sum'\n",
    ")\n",
    "\n",
    "model_parameters = [p for p in model.parameters() if p.requires_grad]\n",
    "optimizer = optim.SGD(model_parameters, lr=0.001, momentum=0.999)"
   ]
  },
  {
   "cell_type": "code",
   "execution_count": 52,
   "metadata": {
    "colab": {
     "base_uri": "https://localhost:8080/",
     "height": 104
    },
    "colab_type": "code",
    "id": "qmMLIrhjbj_D",
    "outputId": "88d88e38-f723-4946-dde9-0c8a8834e746"
   },
   "outputs": [
    {
     "data": {
      "text/plain": [
       "RNNLanguageModel(\n",
       "  (lookup): Embedding(20089, 256, padding_idx=2)\n",
       "  (rnn): RNN(256, 512, num_layers=3, batch_first=True, dropout=0.3)\n",
       "  (projection): Linear(in_features=512, out_features=20089, bias=True)\n",
       ")"
      ]
     },
     "execution_count": 52,
     "metadata": {},
     "output_type": "execute_result"
    }
   ],
   "source": [
    "model"
   ]
  },
  {
   "cell_type": "markdown",
   "metadata": {
    "colab": {},
    "colab_type": "code",
    "id": "qwBqO3z7bj_L"
   },
   "source": [
    "#### Training loop (same as the feedforward model)"
   ]
  },
  {
   "cell_type": "code",
   "execution_count": 53,
   "metadata": {
    "colab": {
     "base_uri": "https://localhost:8080/",
     "height": 34
    },
    "colab_type": "code",
    "id": "Fw28_6qXbj_M",
    "outputId": "bbfb150f-55d0-4d46-c715-7430d7204f17"
   },
   "outputs": [
    {
     "name": "stdout",
     "output_type": "stream",
     "text": [
      "Step 0 avg train loss = 9.9135\n",
      "Step 100 avg train loss = 9.2127\n",
      "Step 200 avg train loss = 8.0267\n",
      "Step 300 avg train loss = 7.3585\n",
      "Step 400 avg train loss = 6.9225\n",
      "Step 500 avg train loss = 6.6142\n",
      "Step 600 avg train loss = 6.3836\n",
      "Step 700 avg train loss = 6.2030\n",
      "Step 800 avg train loss = 6.0517\n",
      "Step 900 avg train loss = 5.9270\n",
      "Step 1000 avg train loss = 5.8212\n",
      "Validation loss after 0 epoch = 4.8042\n",
      "Step 0 avg train loss = 4.8628\n",
      "Step 100 avg train loss = 4.7855\n",
      "Step 200 avg train loss = 4.7545\n",
      "Step 300 avg train loss = 4.7357\n",
      "Step 400 avg train loss = 4.7137\n",
      "Step 500 avg train loss = 4.6900\n",
      "Step 600 avg train loss = 4.6738\n",
      "Step 700 avg train loss = 4.6549\n",
      "Step 800 avg train loss = 4.6427\n",
      "Step 900 avg train loss = 4.6275\n",
      "Step 1000 avg train loss = 4.6137\n",
      "Validation loss after 1 epoch = 4.4477\n",
      "Step 0 avg train loss = 4.3380\n",
      "Step 100 avg train loss = 4.4299\n",
      "Step 200 avg train loss = 4.4324\n",
      "Step 300 avg train loss = 4.4249\n",
      "Step 400 avg train loss = 4.4175\n",
      "Step 500 avg train loss = 4.4129\n",
      "Step 600 avg train loss = 4.4056\n",
      "Step 700 avg train loss = 4.3961\n",
      "Step 800 avg train loss = 4.3855\n"
     ]
    },
    {
     "ename": "KeyboardInterrupt",
     "evalue": "",
     "output_type": "error",
     "traceback": [
      "\u001b[0;31m---------------------------------------------------------------------------\u001b[0m",
      "\u001b[0;31mKeyboardInterrupt\u001b[0m                         Traceback (most recent call last)",
      "\u001b[0;32m<ipython-input-53-0d4b194fc68f>\u001b[0m in \u001b[0;36m<module>\u001b[0;34m\u001b[0m\n\u001b[1;32m     16\u001b[0m \u001b[0;34m\u001b[0m\u001b[0m\n\u001b[1;32m     17\u001b[0m             \u001b[0mloss\u001b[0m \u001b[0;34m=\u001b[0m \u001b[0mcriterion\u001b[0m\u001b[0;34m(\u001b[0m\u001b[0mlogits\u001b[0m\u001b[0;34m.\u001b[0m\u001b[0mview\u001b[0m\u001b[0;34m(\u001b[0m\u001b[0;34m-\u001b[0m\u001b[0;36m1\u001b[0m\u001b[0;34m,\u001b[0m \u001b[0mlogits\u001b[0m\u001b[0;34m.\u001b[0m\u001b[0msize\u001b[0m\u001b[0;34m(\u001b[0m\u001b[0;34m-\u001b[0m\u001b[0;36m1\u001b[0m\u001b[0;34m)\u001b[0m\u001b[0;34m)\u001b[0m\u001b[0;34m,\u001b[0m \u001b[0mtarget\u001b[0m\u001b[0;34m.\u001b[0m\u001b[0mview\u001b[0m\u001b[0;34m(\u001b[0m\u001b[0;34m-\u001b[0m\u001b[0;36m1\u001b[0m\u001b[0;34m)\u001b[0m\u001b[0;34m)\u001b[0m\u001b[0;34m\u001b[0m\u001b[0;34m\u001b[0m\u001b[0m\n\u001b[0;32m---> 18\u001b[0;31m             \u001b[0mtrain_loss_cache\u001b[0m \u001b[0;34m+=\u001b[0m \u001b[0mloss\u001b[0m\u001b[0;34m.\u001b[0m\u001b[0mitem\u001b[0m\u001b[0;34m(\u001b[0m\u001b[0;34m)\u001b[0m  \u001b[0;31m# still sum here\u001b[0m\u001b[0;34m\u001b[0m\u001b[0;34m\u001b[0m\u001b[0m\n\u001b[0m\u001b[1;32m     19\u001b[0m \u001b[0;34m\u001b[0m\u001b[0m\n\u001b[1;32m     20\u001b[0m             \u001b[0mnon_pad_tokens\u001b[0m \u001b[0;34m=\u001b[0m \u001b[0mtarget\u001b[0m\u001b[0;34m.\u001b[0m\u001b[0mview\u001b[0m\u001b[0;34m(\u001b[0m\u001b[0;34m-\u001b[0m\u001b[0;36m1\u001b[0m\u001b[0;34m)\u001b[0m\u001b[0;34m.\u001b[0m\u001b[0mne\u001b[0m\u001b[0;34m(\u001b[0m\u001b[0mdictionary\u001b[0m\u001b[0;34m.\u001b[0m\u001b[0mget_id\u001b[0m\u001b[0;34m(\u001b[0m\u001b[0;34m'<pad>'\u001b[0m\u001b[0;34m)\u001b[0m\u001b[0;34m)\u001b[0m\u001b[0;34m.\u001b[0m\u001b[0msum\u001b[0m\u001b[0;34m(\u001b[0m\u001b[0;34m)\u001b[0m\u001b[0;34m.\u001b[0m\u001b[0mitem\u001b[0m\u001b[0;34m(\u001b[0m\u001b[0;34m)\u001b[0m\u001b[0;34m\u001b[0m\u001b[0;34m\u001b[0m\u001b[0m\n",
      "\u001b[0;31mKeyboardInterrupt\u001b[0m: "
     ]
    }
   ],
   "source": [
    "plot_cache = []\n",
    "\n",
    "if not load_pretrained:\n",
    "    for epoch_number in range(100):\n",
    "        avg_loss = 0\n",
    "        model.train()\n",
    "\n",
    "        train_loss_cache = 0\n",
    "        train_non_pad_tokens_cache = 0\n",
    "\n",
    "        for i, (inp, target) in enumerate(dataloaders['train']):\n",
    "            optimizer.zero_grad()\n",
    "            inp = inp.to(current_device)\n",
    "            target = target.to(current_device)\n",
    "            logits = model(inp)\n",
    "\n",
    "            loss = criterion(logits.view(-1, logits.size(-1)), target.view(-1))\n",
    "            train_loss_cache += loss.item()  # still sum here\n",
    "\n",
    "            non_pad_tokens = target.view(-1).ne(dictionary.get_id('<pad>')).sum().item()            \n",
    "            train_non_pad_tokens_cache += non_pad_tokens\n",
    "\n",
    "            loss /= non_pad_tokens \n",
    "\n",
    "            loss.backward()\n",
    "            optimizer.step()\n",
    "\n",
    "            if i % 100 == 0:\n",
    "                avg_loss = train_loss_cache / train_non_pad_tokens_cache\n",
    "                print('Step {} avg train loss = {:.{prec}f}'.format(i, avg_loss, prec=4))\n",
    "                train_log_cache = []\n",
    "\n",
    "        valid_loss_cache = 0\n",
    "        valid_non_pad_tokens_cache = 0\n",
    "\n",
    "        model.eval()\n",
    "        with torch.no_grad():\n",
    "            for i, (inp, target) in enumerate(dataloaders['valid']):\n",
    "                inp = inp.to(current_device)\n",
    "                target = target.to(current_device)\n",
    "                logits = model(inp)\n",
    "\n",
    "                loss = criterion(logits.view(-1, logits.size(-1)), target.view(-1))\n",
    "                valid_loss_cache += loss.item()  # still sum here\n",
    "                non_pad_tokens = target.view(-1).ne(dictionary.get_id('<pad>')).sum().item()\n",
    "\n",
    "                valid_non_pad_tokens_cache += non_pad_tokens\n",
    "\n",
    "            avg_val_loss = valid_loss_cache / valid_non_pad_tokens_cache\n",
    "\n",
    "            print('Validation loss after {} epoch = {:.{prec}f}'.format(epoch_number, avg_val_loss, prec=4))\n",
    "\n",
    "        plot_cache.append((avg_loss, avg_val_loss))\n"
   ]
  },
  {
   "cell_type": "code",
   "execution_count": null,
   "metadata": {
    "colab": {},
    "colab_type": "code",
    "id": "KAV_hzMvbj_O"
   },
   "outputs": [],
   "source": [
    "if load_pretrained:\n",
    "    plot_cache = model_dict['loss_cache']"
   ]
  },
  {
   "cell_type": "markdown",
   "metadata": {},
   "source": [
    "### 4. Evaluation"
   ]
  },
  {
   "cell_type": "code",
   "execution_count": 39,
   "metadata": {
    "colab": {
     "base_uri": "https://localhost:8080/",
     "height": 281
    },
    "colab_type": "code",
    "id": "fhTtmqBfufyE",
    "outputId": "41019bb9-79c9-440f-a6d7-ecc5817769db"
   },
   "outputs": [
    {
     "data": {
      "image/png": "[encoded data removed]",
      "text/plain": [
       "<Figure size 432x288 with 1 Axes>"
      ]
     },
     "metadata": {
      "needs_background": "light"
     },
     "output_type": "display_data"
    }
   ],
   "source": [
    "import matplotlib.pyplot as plt\n",
    "import numpy\n",
    "\n",
    "epochs = numpy.array(list(range(len(plot_cache))))\n",
    "plt.plot(epochs, [i[0] for i in plot_cache], label='Train loss')\n",
    "plt.plot(epochs, [i[1] for i in plot_cache], label='Valid loss')\n",
    "\n",
    "plt.legend()\n",
    "plt.title('Loss curves')\n",
    "plt.show()"
   ]
  },
  {
   "cell_type": "code",
   "execution_count": 40,
   "metadata": {
    "colab": {
     "base_uri": "https://localhost:8080/",
     "height": 281
    },
    "colab_type": "code",
    "id": "R_A4w1QFufyN",
    "outputId": "23fe62f5-96e3-4893-b4b0-72cd63d4ccd6"
   },
   "outputs": [
    {
     "data": {
      "image/png": "[encoded data removed]",
      "text/plain": [
       "<Figure size 432x288 with 1 Axes>"
      ]
     },
     "metadata": {
      "needs_background": "light"
     },
     "output_type": "display_data"
    }
   ],
   "source": [
    "import matplotlib.pyplot as plt\n",
    "import numpy\n",
    "\n",
    "epochs = numpy.array(list(range(len(plot_cache))))\n",
    "plt.plot(epochs, [2**(i[0]/numpy.log(2)) for i in plot_cache], label='Train ppl')\n",
    "plt.plot(epochs, [2**(i[1]/numpy.log(2)) for i in plot_cache], label='Valid ppl')\n",
    "\n",
    "plt.legend()\n",
    "plt.title('PPL curves')\n",
    "plt.show()"
   ]
  },
  {
   "cell_type": "markdown",
   "metadata": {
    "colab_type": "text",
    "id": "zAvP_FXgbj_W"
   },
   "source": [
    "### Conditional probability queries\n",
    "\n",
    "We can query different probabilities:\n",
    "\n",
    "$\\large p(\\underbrace{x_t}_{\\text{token}}|\\underbrace{x_{<t}}_{\\text{prefix}})$"
   ]
  },
  {
   "cell_type": "code",
   "execution_count": 41,
   "metadata": {
    "colab": {
     "base_uri": "https://localhost:8080/",
     "height": 419
    },
    "colab_type": "code",
    "id": "TMG0r9zwbj_X",
    "outputId": "95a284e7-3913-46ca-e43f-3505dacb6555"
   },
   "outputs": [
    {
     "name": "stdout",
     "output_type": "stream",
     "text": [
      "p( dog  | <bos> i have a )\t= 6.960E-02\n",
      "p( zebra  | <bos> i have a )\t= 1.633E-04\n",
      "p( donut  | <bos> i have a )\t= 1.039E-05\n",
      "p( velociraptor  | <bos> i have a )\t= 2.267E-07\n"
     ]
    }
   ],
   "source": [
    "import torch\n",
    "\n",
    "def next_token_probabilities(prefix, token):\n",
    "    inp = dictionary.encode_token_seq(prefix.split(' '))\n",
    "    with torch.no_grad():\n",
    "        model.eval()\n",
    "        logits = model(\n",
    "            torch.tensor([inp], dtype=torch.long).to(current_device)\n",
    "        )\n",
    "        \n",
    "    token_id = dictionary.get_id(token)\n",
    "    p_next_token = torch.softmax(logits[0, -1], dim=-1)\n",
    "    return p_next_token[token_id]\n",
    "\n",
    "prefix = '<bos> i have a pet and a dog'\n",
    "\n",
    "for w in ['dog', 'zebra', 'donut', 'velociraptor']:\n",
    "    prob = next_token_probabilities(prefix, w)\n",
    "    print('p( %s  | %s )\\t= %.3E' % (w, prefix, prob))\n",
    "    "
   ]
  },
  {
   "cell_type": "markdown",
   "metadata": {},
   "source": [
    "\n",
    "\n",
    "And sort by the highest probability next-tokens:\n",
    "\n",
    "$\\large \\texttt{sort}(p(\\cdot|\\underbrace{x_{<t}}_{\\text{prefix}}))$"
   ]
  },
  {
   "cell_type": "code",
   "execution_count": 42,
   "metadata": {
    "colab": {
     "base_uri": "https://localhost:8080/",
     "height": 404
    },
    "colab_type": "code",
    "id": "l4zVv--owi3d",
    "outputId": "2c64752d-d913-4dfa-814d-ba7042982462"
   },
   "outputs": [
    {
     "name": "stdout",
     "output_type": "stream",
     "text": [
      "p( great  | <bos> the weather is )\t= 0.09953\n",
      "p( nice  | <bos> the weather is )\t= 0.07860\n",
      "p( beautiful  | <bos> the weather is )\t= 0.06185\n",
      "p( fun  | <bos> the weather is )\t= 0.05039\n",
      "p( good  | <bos> the weather is )\t= 0.04573\n",
      "p( awesome  | <bos> the weather is )\t= 0.04308\n",
      "p( cool  | <bos> the weather is )\t= 0.04212\n",
      "p( my  | <bos> the weather is )\t= 0.03604\n",
      "p( a  | <bos> the weather is )\t= 0.02892\n",
      "p( so  | <bos> the weather is )\t= 0.02230\n"
     ]
    }
   ],
   "source": [
    "def get_top_token_given_prefix(prefix, top=10):\n",
    "    inp = dictionary.encode_token_seq(prefix.split(' '))\n",
    "    with torch.no_grad():\n",
    "        model.eval()\n",
    "        logits = model(\n",
    "            torch.tensor([inp], dtype=torch.long).to(current_device)\n",
    "        )\n",
    "        \n",
    "    p_next_token = torch.softmax(logits[0, -1], dim=-1)\n",
    "    sorted_probs, sorted_token_ids = torch.topk(p_next_token, top)\n",
    "\n",
    "    for i in range(sorted_token_ids.size(0)):\n",
    "        print('p( %s  | %s )\\t= %.5f' % \n",
    "              (dictionary.decode_idx_seq([sorted_token_ids[i]])[0], \n",
    "               prefix, \n",
    "               sorted_probs[i])\n",
    "        )\n",
    "\n",
    "get_top_token_given_prefix('<bos> the weather is')"
   ]
  },
  {
   "cell_type": "markdown",
   "metadata": {},
   "source": [
    "### Generation (Sampling)\n",
    "\n",
    "Finally, we can generate sentences using the model's conditional distribution:\n",
    "\n",
    "            context = [<bos>]\n",
    "            until <eos> is generated:\n",
    "                wt ~ p(wt | context)\n",
    "                context += [wt]\n",
    "                \n",
    "                \n",
    "Here, the `~` symbol stands for sampling from a categorical distribution. "
   ]
  },
  {
   "cell_type": "code",
   "execution_count": 43,
   "metadata": {},
   "outputs": [
    {
     "name": "stdout",
     "output_type": "stream",
     "text": [
      "Temperature 1.00\n",
      "<bos> i have a medium , and i am passionate about engagement and perez . <eos>\n",
      "<bos> i have a lot of friends so it has not have a perpetual there though . <eos>\n",
      "<bos> i have a lot of mine pigs at an end food company . <eos>\n",
      "<bos> i have a brother then . <eos>\n",
      "<bos> i have a 3 year old son recently . <eos>\n",
      "\n",
      "Temperature 0.50\n",
      "<bos> i have a cat named rock . <eos>\n",
      "<bos> i have a lot of friends . <eos>\n",
      "<bos> i have a dog . and my husband is a teacher . <eos>\n",
      "<bos> i have a cat named cow . <eos>\n",
      "<bos> i have a lot of friends and family . <eos>\n",
      "\n",
      "Temperature 0.10\n",
      "<bos> i have a dog named toto . <eos>\n",
      "<bos> i have a dog named toto . <eos>\n",
      "<bos> i have a dog named toto . <eos>\n",
      "<bos> i have a lot of friends . <eos>\n",
      "<bos> i have a cat named cow . <eos>\n",
      "\n"
     ]
    }
   ],
   "source": [
    "import torch\n",
    "\n",
    "def sample(model, prefix, num_samples, temperature=1.0, max_len=50):\n",
    "    inp = torch.tensor([\n",
    "        dictionary.encode_token_seq(prefix.split(' '))\n",
    "    ], dtype=torch.long).to(current_device).repeat([num_samples, 1])\n",
    "\n",
    "    sampled = [prefix.split(' ') for _ in range(num_samples)]\n",
    "    done = torch.tensor([False for _ in range(num_samples)])\n",
    "    hidden = None\n",
    "    \n",
    "    with torch.no_grad():\n",
    "        model.eval()\n",
    "        for t in range(max_len):\n",
    "            logits, hidden = step(model, inp, hidden)\n",
    "            logits_ = (logits[:, -1, :] / temperature)\n",
    "            inp = logits_.softmax(-1).multinomial(1)            \n",
    "            for i in range(num_samples):\n",
    "                tok_ti = dictionary.get_token(inp[i, 0].item())\n",
    "                if tok_ti == '<eos>' and not done[i]:\n",
    "                    done[i] = True\n",
    "                    sampled[i].append(tok_ti)\n",
    "                elif not done[i]:\n",
    "                    sampled[i].append(tok_ti)\n",
    "                else:\n",
    "                    pass\n",
    "            if done.sum() == num_samples:\n",
    "                break\n",
    "        \n",
    "    return sampled\n",
    "\n",
    "def step(rnn, token_ids, hidden):\n",
    "    embeddings = rnn.lookup(token_ids)\n",
    "    output, hidden = rnn.rnn(embeddings, hidden)\n",
    "    logits = rnn.projection(output) \n",
    "    return logits, hidden\n",
    "\n",
    "\n",
    "prefix = '<bos> i have a'\n",
    "\n",
    "for temp in [1.0, 0.5, 0.1]:\n",
    "    print(\"Temperature %.2f\" % temp)\n",
    "    samples = sample(model, prefix, 5, temperature=temp)\n",
    "    for s in samples:\n",
    "        print(' '.join(s))\n",
    "    print()"
   ]
  },
  {
   "cell_type": "code",
   "execution_count": 44,
   "metadata": {
    "colab": {},
    "colab_type": "code",
    "id": "uzGqlrKhbj_g"
   },
   "outputs": [],
   "source": [
    "# Saving the model\n",
    "if False:\n",
    "    torch.save({\n",
    "        'options': options,\n",
    "        'loss_cache': plot_cache,\n",
    "        'model_dict': model.state_dict()\n",
    "    }, './static_files/persona_rnn_lm.pt')"
   ]
  },
  {
   "cell_type": "raw",
   "metadata": {},
   "source": []
  },
  {
   "cell_type": "markdown",
   "metadata": {},
   "source": [
    "## Large-scale Language Modeling: GPT-2\n",
    "\n",
    "The language model above is relatively small in terms of the number of parameters, and is trained on a (very) small dataset.\n",
    "\n",
    "Recently, researchers have trained **large-scale language models** on **large amounts of data**, resulting in improved language modeling and generation ability. \n",
    "\n",
    "A representative example is **GPT-2** [[paper](https://cdn.openai.com/better-language-models/language_models_are_unsupervised_multitask_learners.pdf)], [[blog](https://openai.com/blog/better-language-models/)]. We won't currently discuss the details of this model, but we can easily **use a pre-trained version to generate text**:"
   ]
  },
  {
   "cell_type": "code",
   "execution_count": 45,
   "metadata": {},
   "outputs": [
    {
     "name": "stdout",
     "output_type": "stream",
     "text": [
      "Requirement already satisfied: transformers in /opt/anaconda3/lib/python3.7/site-packages (2.5.1)\n",
      "Requirement already satisfied: boto3 in /opt/anaconda3/lib/python3.7/site-packages (from transformers) (1.12.22)\n",
      "Requirement already satisfied: numpy in /opt/anaconda3/lib/python3.7/site-packages (from transformers) (1.18.1)\n",
      "Requirement already satisfied: sentencepiece in /opt/anaconda3/lib/python3.7/site-packages (from transformers) (0.1.85)\n",
      "Requirement already satisfied: filelock in /opt/anaconda3/lib/python3.7/site-packages (from transformers) (3.0.12)\n",
      "Requirement already satisfied: tqdm>=4.27 in /opt/anaconda3/lib/python3.7/site-packages (from transformers) (4.42.0)\n",
      "Requirement already satisfied: tokenizers==0.5.2 in /opt/anaconda3/lib/python3.7/site-packages (from transformers) (0.5.2)\n",
      "Requirement already satisfied: requests in /opt/anaconda3/lib/python3.7/site-packages (from transformers) (2.22.0)\n",
      "Requirement already satisfied: sacremoses in /opt/anaconda3/lib/python3.7/site-packages (from transformers) (0.0.38)\n",
      "Requirement already satisfied: regex!=2019.12.17 in /opt/anaconda3/lib/python3.7/site-packages (from transformers) (2019.8.19)\n",
      "Requirement already satisfied: jmespath<1.0.0,>=0.7.1 in /opt/anaconda3/lib/python3.7/site-packages (from boto3->transformers) (0.9.5)\n",
      "Requirement already satisfied: s3transfer<0.4.0,>=0.3.0 in /opt/anaconda3/lib/python3.7/site-packages (from boto3->transformers) (0.3.3)\n",
      "Requirement already satisfied: botocore<1.16.0,>=1.15.22 in /opt/anaconda3/lib/python3.7/site-packages (from boto3->transformers) (1.15.22)\n",
      "Requirement already satisfied: idna<2.9,>=2.5 in /opt/anaconda3/lib/python3.7/site-packages (from requests->transformers) (2.8)\n",
      "Requirement already satisfied: urllib3!=1.25.0,!=1.25.1,<1.26,>=1.21.1 in /opt/anaconda3/lib/python3.7/site-packages (from requests->transformers) (1.24.2)\n",
      "Requirement already satisfied: chardet<3.1.0,>=3.0.2 in /opt/anaconda3/lib/python3.7/site-packages (from requests->transformers) (3.0.4)\n",
      "Requirement already satisfied: certifi>=2017.4.17 in /opt/anaconda3/lib/python3.7/site-packages (from requests->transformers) (2019.11.28)\n",
      "Requirement already satisfied: click in /opt/anaconda3/lib/python3.7/site-packages (from sacremoses->transformers) (7.0)\n",
      "Requirement already satisfied: six in /opt/anaconda3/lib/python3.7/site-packages (from sacremoses->transformers) (1.12.0)\n",
      "Requirement already satisfied: joblib in /opt/anaconda3/lib/python3.7/site-packages (from sacremoses->transformers) (0.14.1)\n",
      "Requirement already satisfied: docutils<0.16,>=0.10 in /opt/anaconda3/lib/python3.7/site-packages (from botocore<1.16.0,>=1.15.22->boto3->transformers) (0.15.2)\n",
      "Requirement already satisfied: python-dateutil<3.0.0,>=2.1 in /opt/anaconda3/lib/python3.7/site-packages (from botocore<1.16.0,>=1.15.22->boto3->transformers) (2.8.1)\n"
     ]
    }
   ],
   "source": [
    "!pip install transformers"
   ]
  },
  {
   "cell_type": "markdown",
   "metadata": {},
   "source": [
    "#### Load the model and tokenizer"
   ]
  },
  {
   "cell_type": "code",
   "execution_count": 54,
   "metadata": {},
   "outputs": [],
   "source": [
    "import torch\n",
    "from transformers import (\n",
    "    GPT2LMHeadModel,\n",
    "    GPT2Tokenizer\n",
    ")\n",
    "\n",
    "device = torch.device('cpu') if not torch.cuda.is_available() else torch.device('cuda:0')\n",
    "\n",
    "tokenizer = GPT2Tokenizer.from_pretrained(\"gpt2\")\n",
    "model = GPT2LMHeadModel.from_pretrained(\"gpt2\")\n",
    "model.to(device);"
   ]
  },
  {
   "cell_type": "markdown",
   "metadata": {},
   "source": [
    "#### Generate (Sampling)\n",
    "\n",
    "We'll talk about other ways to generate later in the course."
   ]
  },
  {
   "cell_type": "code",
   "execution_count": 56,
   "metadata": {},
   "outputs": [
    {
     "name": "stdout",
     "output_type": "stream",
     "text": [
      "My favorite food is often grilled chicken wings but I always try to avoid pork chops because I love the way they taste. They are light and healthy and you can add some bacon or shrimp to those. You can mix and match all the ingredients but I like the fresh and crispy cut with the crispy and crispy sauce. It is very satisfying for my little ones to have a dish I love and for parents to be able to have a good time with family eating chicken. It is SO good because each day\n",
      "---------------------------------------------------\n",
      "My favorite food is made with corn or eggs because I know it tastes pretty good. What other food should I eat before leaving this place and am just going to leave it alone? :)\n",
      "\n",
      "I was staying near St. Louis on a weekday evening in 2016 and I can say that there was NO other thing to do than to head to St. Louis to see my husband, walk over to His Majesty's Army headquarters and at 2:30 you need to talk to somebody for around 30 seconds.\n",
      "---------------------------------------------------\n",
      "My favorite food is grilled duck.\n",
      "\n",
      "Chefs are amazing at my friends food, even for food or to make things.\n",
      "\n",
      "I love being an owner.\n",
      "\n",
      "I go to restaurants like New York State Fair: We eat all kinds of food and when we go to work is usually it is a great time to get to know some of the people who know me, get to meet new people and have a drink.\n",
      "\n",
      "Here's a story from when I work here:\n",
      "\n",
      "---------------------------------------------------\n",
      "My favorite food is grilled cheese. But, I also like chicken. (Don't forget chicken sandwiches. Don't forget that.)\n",
      "\n",
      "3. I have no qualms about having good food in my freezer.\n",
      "\n",
      "4. I really, really don't care whether my turkey takes out too many food for me, and I'm sure they're all going to.\n",
      "\n",
      "5. I love my turkey, and this was only my first time. My second time was the same.\n",
      "\n",
      "---------------------------------------------------\n",
      "My favorite food is pizza. I always put a pie for dessert. But, now I make it to dinner so you won't have to eat too much.\" I always end up eating as much as I need, never the other way around, because I like eating.\n",
      "\n",
      "The best part of having the pizza is if you have a lot of ingredients available but don't cook it, then you wouldn't even know what type. And at least if you did find yourself needing to prepare something,\n",
      "---------------------------------------------------\n"
     ]
    }
   ],
   "source": [
    "prefix = 'My favorite food is'\n",
    "\n",
    "max_length = 100\n",
    "num_samples = 5\n",
    "\n",
    "inp = torch.tensor([tokenizer.encode(prefix)], device=device).repeat(num_samples, 1)\n",
    "\n",
    "out = model.generate(\n",
    "    input_ids=inp,\n",
    "    do_sample=True,\n",
    "    max_length=max_length\n",
    ")\n",
    "\n",
    "for i in range(num_samples):\n",
    "    sample = tokenizer.decode(out[i])\n",
    "    print(sample)\n",
    "    print('---------------------------------------------------')"
   ]
  },
  {
   "cell_type": "code",
   "execution_count": null,
   "metadata": {},
   "outputs": [],
   "source": []
  }
 ],
 "metadata": {
  "accelerator": "GPU",
  "colab": {
   "collapsed_sections": [],
   "name": "lab4_rnnlm.ipynb",
   "provenance": []
  },
  "kernelspec": {
   "display_name": "Python 3",
   "language": "python",
   "name": "python3"
  },
  "language_info": {
   "codemirror_mode": {
    "name": "ipython",
    "version": 3
   },
   "file_extension": ".py",
   "mimetype": "text/x-python",
   "name": "python",
   "nbconvert_exporter": "python",
   "pygments_lexer": "ipython3",
   "version": "3.7.4"
  }
 },
 "nbformat": 4,
 "nbformat_minor": 4
}
